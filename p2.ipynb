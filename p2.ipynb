{
 "cells": [
  {
   "cell_type": "code",
   "execution_count": 1,
   "id": "8ce17d04-00bd-4194-bac0-04647cb3dd00",
   "metadata": {},
   "outputs": [
    {
     "name": "stderr",
     "output_type": "stream",
     "text": [
      "[nltk_data] Downloading package stopwords to C:\\Users\\Nathan\n",
      "[nltk_data]     Hua\\AppData\\Roaming\\nltk_data...\n",
      "[nltk_data]   Package stopwords is already up-to-date!\n",
      "[nltk_data] Downloading package punkt to C:\\Users\\Nathan\n",
      "[nltk_data]     Hua\\AppData\\Roaming\\nltk_data...\n",
      "[nltk_data]   Package punkt is already up-to-date!\n",
      "[nltk_data] Downloading package wordnet to C:\\Users\\Nathan\n",
      "[nltk_data]     Hua\\AppData\\Roaming\\nltk_data...\n",
      "[nltk_data]   Package wordnet is already up-to-date!\n",
      "[nltk_data] Downloading package omw-1.4 to C:\\Users\\Nathan\n",
      "[nltk_data]     Hua\\AppData\\Roaming\\nltk_data...\n",
      "[nltk_data]   Package omw-1.4 is already up-to-date!\n"
     ]
    },
    {
     "data": {
      "text/plain": [
       "True"
      ]
     },
     "execution_count": 1,
     "metadata": {},
     "output_type": "execute_result"
    }
   ],
   "source": [
    "import sklearn\n",
    "import nltk\n",
    "import pandas as pd\n",
    "import numpy as np\n",
    "import os\n",
    "import operator\n",
    "from sklearn.metrics import precision_score, recall_score, f1_score,accuracy_score\n",
    "from sklearn.model_selection import train_test_split\n",
    "from sklearn.feature_selection import chi2\n",
    "from sklearn.feature_selection import SelectKBest\n",
    "from sklearn.feature_extraction.text import TfidfVectorizer\n",
    "from matplotlib.pyplot import plot\n",
    "nltk.download('stopwords') # If needed\n",
    "nltk.download('punkt') # If needed\n",
    "nltk.download('wordnet') # If needed\n",
    "nltk.download('omw-1.4') # If needed"
   ]
  },
  {
   "cell_type": "markdown",
   "id": "18596722-8052-4c65-9a12-f671c67064b8",
   "metadata": {},
   "source": [
    "# Data Preprocessing"
   ]
  },
  {
   "cell_type": "code",
   "execution_count": 2,
   "id": "217cd48d-b4d2-4b87-9e2f-b9cfab0afd4f",
   "metadata": {},
   "outputs": [],
   "source": [
    "# Declaring a category map so that new categories can be added easily\n",
    "CATEGORY_MAP = {\n",
    "    \"business\": 1,\n",
    "    \"entertainment\": 2,\n",
    "    \"politics\": 3,\n",
    "    \"sport\": 4,\n",
    "    \"tech\": 5\n",
    "}"
   ]
  },
  {
   "cell_type": "code",
   "execution_count": 3,
   "id": "b2d3e0a6-e0ba-4f10-b41e-6ab6534f7a7d",
   "metadata": {},
   "outputs": [],
   "source": [
    "# read all txt files in a directory and categorize them\n",
    "def read_files(dir, category):\n",
    "    result = []\n",
    "    file_names = os.listdir(dir)\n",
    "    for file_name in file_names:\n",
    "        if \".txt\" in file_name:\n",
    "            file = open(dir + \"/\" + file_name)\n",
    "            result.append([file.read(), category])\n",
    "            file.close()\n",
    "    return pd.DataFrame(result, columns=[\"content\", \"category\"])"
   ]
  },
  {
   "cell_type": "code",
   "execution_count": 4,
   "id": "f5e47f85-8744-4cbc-b554-4853bb042613",
   "metadata": {},
   "outputs": [],
   "source": [
    "# read data\n",
    "raw_data = []\n",
    "for category, id in CATEGORY_MAP.items():\n",
    "    raw_data.append(read_files(\"bbc/\" + category, id))\n",
    "full_set = pd.concat(raw_data, ignore_index=True)\n",
    "full_set_x = full_set.iloc[: , :-1]\n",
    "full_set_y = full_set.iloc[: , -1]"
   ]
  },
  {
   "cell_type": "code",
   "execution_count": 5,
   "id": "2e298392-5c13-446a-bd01-aaf032b0ddfb",
   "metadata": {},
   "outputs": [],
   "source": [
    "# split full data set into test, development, and test sets with ratio 8:1:1\n",
    "train_set_x, test_set_x, train_set_y, test_set_y = train_test_split(full_set_x, full_set_y, test_size=0.2, random_state=1)\n",
    "dev_set_x, test_set_x, dev_set_y, test_set_y = train_test_split(test_set_x, test_set_y, test_size=0.5, random_state=1)"
   ]
  },
  {
   "cell_type": "markdown",
   "id": "c47978f5-749e-4567-a3aa-085d1d9bf356",
   "metadata": {},
   "source": [
    "# Feature Engineering and Feature Selection"
   ]
  },
  {
   "cell_type": "markdown",
   "id": "cd052b4a-86e1-49a2-84ca-bb9d7fe8a9e1",
   "metadata": {},
   "source": [
    "## Feature 1: Category Word Frequency\n",
    "Select n most frequent words of each category and combining them together to get our feature"
   ]
  },
  {
   "cell_type": "code",
   "execution_count": 6,
   "id": "b4bfdd8b-f48d-4548-9493-62e4bdf20558",
   "metadata": {},
   "outputs": [],
   "source": [
    "# get the n most frequent words among a list of articles\n",
    "stopwords = set(nltk.corpus.stopwords.words(\"english\"))\n",
    "\n",
    "# add additional_stopwords to stopwords. additional_stopwords are gathered through get_most_frequent_words\n",
    "additional_stopwords = [\".\", \",\", \"'s\", \"``\", \"''\", \"'\", \"n't\", \"%\", \"-\", \"$\", \"(\", \")\", \":\", \";\"]\n",
    "for sw in additional_stopwords: stopwords.add(sw)\n",
    "\n",
    "# Initialize lemmatizer\n",
    "lemmatizer = nltk.stem.WordNetLemmatizer()\n",
    "\n",
    "def get_most_frequent_words(article_list, n):\n",
    "    # get all word frequencies, except stopwords\n",
    "    dict_word_freq = {}\n",
    "    for article in article_list:\n",
    "        for sentence in nltk.tokenize.sent_tokenize(article):\n",
    "            for token in nltk.tokenize.word_tokenize(sentence):\n",
    "                word = lemmatizer.lemmatize(token).lower()\n",
    "                if word in stopwords: continue\n",
    "                if word in dict_word_freq: dict_word_freq[word] += 1\n",
    "                else: dict_word_freq[word] = 1\n",
    "    # sort and return first n words\n",
    "    sorted_list = sorted(dict_word_freq.items(), key=operator.itemgetter(1), reverse=True)\n",
    "    if len(sorted_list) <= n: return sorted_list\n",
    "    else: return sorted_list[:n]\n",
    "\n",
    "# get vector according to vocabulary from articles\n",
    "def get_f1_vector(vocab, article):\n",
    "    vector = np.zeros(len(vocab))\n",
    "    words = []\n",
    "    for sentence in nltk.tokenize.sent_tokenize(article):\n",
    "        for token in nltk.tokenize.word_tokenize(sentence):\n",
    "            words.append(lemmatizer.lemmatize(token).lower())\n",
    "    \n",
    "    for i, word in enumerate(vocab):\n",
    "        if word in words:\n",
    "            vector[i] = words.count(word)\n",
    "    return vector\n",
    "\n",
    "# prepare the training data for feature 1\n",
    "# n is the number of most frequent words from a category\n",
    "def prepare_f1_train_data(n):\n",
    "    # Initialize vocabulary\n",
    "    vocabulary=[]\n",
    "    # create vocabulary for single keyword frequency count\n",
    "    for id in CATEGORY_MAP.values():\n",
    "        temp_list = []\n",
    "        for i in train_set_x.index:\n",
    "            if train_set_y.loc[i] == id:\n",
    "                temp_list.append(train_set_x.loc[i, \"content\"])\n",
    "        for word, frequency in get_most_frequent_words(temp_list, n):\n",
    "            if word not in vocabulary: vocabulary.append(word)\n",
    "    # print(str(len(vocabulary)) + \": \" + str(vocabulary))\n",
    "\n",
    "    # create training data\n",
    "    x = []\n",
    "    y = []\n",
    "    for i in train_set_x.index:\n",
    "        x.append(get_f1_vector(vocabulary, train_set_x.loc[i, \"content\"]))\n",
    "        y.append(train_set_y.loc[i])\n",
    "    return np.asarray(x), np.asarray(y), vocabulary"
   ]
  },
  {
   "cell_type": "markdown",
   "id": "e167fe57-3ab9-4232-a230-792b5114f7b7",
   "metadata": {},
   "source": [
    "## Feature 2: Title Words Frequency  \n",
    "Observing that every first line of an article is its title, I guess title's word frequency can be used for classifying an article."
   ]
  },
  {
   "cell_type": "code",
   "execution_count": 7,
   "id": "8f6adb7f-b553-4f46-8975-4622a1100b71",
   "metadata": {},
   "outputs": [],
   "source": [
    "# get vector according to vocabulary from article title\n",
    "def get_f2_vector(vocab, article):\n",
    "    vector = np.zeros(len(vocab))\n",
    "    words = []\n",
    "    for token in nltk.tokenize.word_tokenize(nltk.tokenize.sent_tokenize(article)[0]):\n",
    "        words.append(lemmatizer.lemmatize(token).lower())\n",
    "    for i, word in enumerate(vocab):\n",
    "        if word in words:\n",
    "            vector[i] = words.count(word)\n",
    "    return vector\n",
    "\n",
    "def prepare_f2_train_data():\n",
    "    # prepare the title vocabulary\n",
    "    title_vocab = []\n",
    "    for i in train_set_x.index:\n",
    "        article = train_set_x.loc[i, \"content\"]\n",
    "        # only words in the first line of an article need to be count\n",
    "        for token in nltk.tokenize.word_tokenize(nltk.tokenize.sent_tokenize(article)[0]):\n",
    "            word = lemmatizer.lemmatize(token).lower()\n",
    "            if word in stopwords: continue\n",
    "            if word not in title_vocab: title_vocab.append(word)\n",
    "    # create training data\n",
    "    x = []\n",
    "    y = []\n",
    "    for i in train_set_x.index:\n",
    "        x.append(get_f2_vector(title_vocab, train_set_x.loc[i, \"content\"]))\n",
    "        y.append(train_set_y.loc[i])\n",
    "    return np.asarray(x), np.asarray(y), title_vocab"
   ]
  },
  {
   "cell_type": "markdown",
   "id": "55c7617a-2c57-4999-82cc-dbebf8a5bf5c",
   "metadata": {},
   "source": [
    "## Feature 3: TF-IDF"
   ]
  },
  {
   "cell_type": "code",
   "execution_count": 8,
   "id": "c26306bd-ccbb-4ead-bafb-478d61c099aa",
   "metadata": {},
   "outputs": [],
   "source": [
    "# Initialize Tfidf Vectorizer\n",
    "tfidf_vector = TfidfVectorizer()\n",
    "# Learn vocabulary and idf from training set\n",
    "tfidf_vector.fit(train_set_x[\"content\"])\n",
    "# Transform train and test input documents to document-term matrix\n",
    "tfidf_train_x = tfidf_vector.transform(train_set_x[\"content\"])\n",
    "tfidf_test_x  = tfidf_vector.transform(test_set_x[\"content\"])"
   ]
  },
  {
   "cell_type": "markdown",
   "id": "1462bb8f-71a2-44a2-b0f3-6cb450616ff3",
   "metadata": {},
   "source": [
    "# Linear Classifier Training, Validation, and Overall Performance"
   ]
  },
  {
   "cell_type": "code",
   "execution_count": 9,
   "id": "9472f3e5-00d5-496e-b808-bead75c682ca",
   "metadata": {},
   "outputs": [],
   "source": [
    "# Create Linear Classifier instance\n",
    "svm_clf_category = sklearn.svm.SVC(kernel=\"linear\", gamma='auto')\n",
    "# Create Scores Variables\n",
    "pre, rec, f1, acc = 0, 0, 0, 0\n",
    "\n",
    "# Print all scores\n",
    "def print_scores():\n",
    "    print(\"Precision:\\t\" + str(pre))\n",
    "    print(\"Recall:\\t\\t\" + str(rec))\n",
    "    print(\"F1:\\t\\t\" + str(f1))\n",
    "    print(\"Accuracy:\\t\" + str(acc))\n",
    "    \n",
    "# validation function\n",
    "def validation(model, vocabulary, get_vector, set_x, set_y, select_k=None):\n",
    "    x = []\n",
    "    y = []\n",
    "    for i in set_x.index:\n",
    "        x.append(get_vector(vocabulary, set_x.loc[i, \"content\"]))\n",
    "        y.append(set_y.loc[i])\n",
    "\n",
    "    # if used chi-squared to select k best, transform the data\n",
    "    if select_k != None:\n",
    "        x = select_k.transform(x)\n",
    "        \n",
    "    predictions = model.predict(x)\n",
    "    y = np.asarray(y)\n",
    "    \n",
    "    precision = precision_score(y, predictions, average='macro')\n",
    "    recall    = recall_score(y, predictions, average='macro')\n",
    "    f1        = f1_score(y, predictions, average='macro')\n",
    "    accuracy  = accuracy_score(y, predictions)\n",
    "    return precision, recall, f1, accuracy"
   ]
  },
  {
   "cell_type": "markdown",
   "id": "5620d23b-8ab7-4c48-827a-6ddec0ca44ab",
   "metadata": {},
   "source": [
    "## Feature 1 training and testing"
   ]
  },
  {
   "cell_type": "code",
   "execution_count": 10,
   "id": "43f5495e-539d-459e-b4cd-3ebe5f335b12",
   "metadata": {},
   "outputs": [
    {
     "name": "stdout",
     "output_type": "stream",
     "text": [
      "Precision:\t0.9062450123142126\n",
      "Recall:\t\t0.9009610245332105\n",
      "F1:\t\t0.9023387981634763\n",
      "Accuracy:\t0.9009009009009009\n"
     ]
    },
    {
     "data": {
      "image/png": "[encoded data removed]",
      "text/plain": [
       "<Figure size 432x288 with 1 Axes>"
      ]
     },
     "metadata": {
      "needs_background": "light"
     },
     "output_type": "display_data"
    }
   ],
   "source": [
    "# use development set to adjust n to get an acceptable score: f1 >= 0.9\n",
    "# this step seems need to restart the kernel if rerun with no change,\n",
    "# or it will only get the last n and its corresponding result and cannot plot correctly\n",
    "n = 5\n",
    "vocab_f1 = []\n",
    "plt_x = []\n",
    "plt_y = []\n",
    "while f1 < 0.9:\n",
    "    train_f1_x, train_f1_y, vocab_f1 = prepare_f1_train_data(n)\n",
    "    svm_clf_category.fit(train_f1_x, train_f1_y)\n",
    "    pre, rec, f1, acc = validation(svm_clf_category, vocab_f1, get_f1_vector, dev_set_x, dev_set_y)\n",
    "    plt_x.append(n)\n",
    "    plt_y.append([pre, rec, f1, acc])\n",
    "    n += 1\n",
    "plot(plt_x, plt_y)\n",
    "print_scores()"
   ]
  },
  {
   "cell_type": "code",
   "execution_count": 11,
   "id": "f9ac1ed6-a647-4e88-a4e6-1d2deff88633",
   "metadata": {},
   "outputs": [
    {
     "name": "stdout",
     "output_type": "stream",
     "text": [
      "Precision:\t0.8854794038387505\n",
      "Recall:\t\t0.8803162915237218\n",
      "F1:\t\t0.8799756938868152\n",
      "Accuracy:\t0.8834080717488789\n"
     ]
    }
   ],
   "source": [
    "# Testing using the test set to get the overall performance\n",
    "pre, rec, f1, acc = validation(svm_clf_category, vocab_f1, get_f1_vector, test_set_x, test_set_y)\n",
    "print_scores()"
   ]
  },
  {
   "cell_type": "markdown",
   "id": "389bdd43-44cd-4dbd-ab08-7fbad45d0c4e",
   "metadata": {},
   "source": [
    "## Feature 2 training and Testing"
   ]
  },
  {
   "cell_type": "code",
   "execution_count": 12,
   "id": "5e97e2f2-487e-4636-9872-ef935ed57669",
   "metadata": {},
   "outputs": [
    {
     "name": "stdout",
     "output_type": "stream",
     "text": [
      "Precision:\t0.9112766227023051\n",
      "Recall:\t\t0.9040976016358535\n",
      "F1:\t\t0.9058310955402826\n",
      "Accuracy:\t0.9054054054054054\n"
     ]
    },
    {
     "data": {
      "image/png": "[encoded data removed]",
      "text/plain": [
       "<Figure size 432x288 with 1 Axes>"
      ]
     },
     "metadata": {
      "needs_background": "light"
     },
     "output_type": "display_data"
    }
   ],
   "source": [
    "# use development set to validate if this feature is good enough\n",
    "train_f2_x, train_f2_y, vocab_f2 = prepare_f2_train_data()\n",
    "\n",
    "# clear data\n",
    "f1 = 0\n",
    "plt_x = []\n",
    "plt_y = []\n",
    "k_value = 1000\n",
    "while f1 < 0.9:\n",
    "    # feature selection with chi-squared test method\n",
    "    select_k = SelectKBest(chi2, k=k_value).fit(train_f2_x, train_f2_y)\n",
    "    train_f2_x_new = select_k.transform(train_f2_x)\n",
    "    svm_clf_category.fit(train_f2_x_new, train_f2_y)\n",
    "    pre, rec, f1, acc = validation(svm_clf_category, vocab_f2, get_f2_vector, dev_set_x, dev_set_y, select_k)\n",
    "    plt_x.append(k_value)\n",
    "    plt_y.append([pre, rec, f1, acc])\n",
    "    k_value += 100\n",
    "plot(plt_x, plt_y)\n",
    "print_scores()"
   ]
  },
  {
   "cell_type": "code",
   "execution_count": 13,
   "id": "b207ed3d-de49-4478-853a-2c31a154bbdf",
   "metadata": {},
   "outputs": [
    {
     "name": "stdout",
     "output_type": "stream",
     "text": [
      "Precision:\t0.9113436561336055\n",
      "Recall:\t\t0.9064021141884918\n",
      "F1:\t\t0.9068283621086903\n",
      "Accuracy:\t0.9103139013452914\n"
     ]
    }
   ],
   "source": [
    "# Test the overall performance\n",
    "pre, rec, f1, acc = validation(svm_clf_category, vocab_f2, get_f2_vector, test_set_x, test_set_y, select_k)\n",
    "print_scores()"
   ]
  },
  {
   "cell_type": "markdown",
   "id": "c4c2cff9-7c55-46f8-a321-eb6e2ab6fcea",
   "metadata": {},
   "source": [
    "## Feature 3 training and Testing"
   ]
  },
  {
   "cell_type": "code",
   "execution_count": 15,
   "id": "79a8f304-66ac-41ee-8994-160d9eddbf11",
   "metadata": {},
   "outputs": [
    {
     "name": "stdout",
     "output_type": "stream",
     "text": [
      "Precision:\t0.9750257997936018\n",
      "Recall:\t\t0.9764956907371769\n",
      "F1:\t\t0.9757120286400541\n",
      "Accuracy:\t0.9775784753363229\n"
     ]
    }
   ],
   "source": [
    "# Train the classifier\n",
    "svm_clf_category.fit(tfidf_train_x, train_set_y.to_numpy())\n",
    "# Test with test data\n",
    "predictions = svm_clf_category.predict(tfidf_test_x)\n",
    "tfidf_test_y = test_set_y.to_numpy()\n",
    "    \n",
    "pre = precision_score(tfidf_test_y, predictions, average='macro')\n",
    "rec = recall_score(tfidf_test_y, predictions, average='macro')\n",
    "f1  = f1_score(tfidf_test_y, predictions, average='macro')\n",
    "acc = accuracy_score(tfidf_test_y, predictions)\n",
    "print_scores()"
   ]
  },
  {
   "cell_type": "code",
   "execution_count": null,
   "id": "8b08b195-0d31-4699-8a21-f6f21ebb59a7",
   "metadata": {},
   "outputs": [],
   "source": []
  }
 ],
 "metadata": {
  "kernelspec": {
   "display_name": "Python 3 (ipykernel)",
   "language": "python",
   "name": "python3"
  },
  "language_info": {
   "codemirror_mode": {
    "name": "ipython",
    "version": 3
   },
   "file_extension": ".py",
   "mimetype": "text/x-python",
   "name": "python",
   "nbconvert_exporter": "python",
   "pygments_lexer": "ipython3",
   "version": "3.8.10"
  }
 },
 "nbformat": 4,
 "nbformat_minor": 5
}
